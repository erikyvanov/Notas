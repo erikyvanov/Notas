{
 "metadata": {
  "language_info": {
   "codemirror_mode": {
    "name": "ipython",
    "version": 3
   },
   "file_extension": ".py",
   "mimetype": "text/x-python",
   "name": "python",
   "nbconvert_exporter": "python",
   "pygments_lexer": "ipython3",
   "version": "3.8.6-final"
  },
  "orig_nbformat": 2,
  "kernelspec": {
   "name": "python3",
   "display_name": "Python 3",
   "language": "python"
  }
 },
 "nbformat": 4,
 "nbformat_minor": 2,
 "cells": [
  {
   "source": [
    "# Pytorch primeros pasos"
   ],
   "cell_type": "markdown",
   "metadata": {}
  },
  {
   "cell_type": "code",
   "execution_count": 2,
   "metadata": {},
   "outputs": [],
   "source": [
    "import torch"
   ]
  },
  {
   "cell_type": "code",
   "execution_count": 9,
   "metadata": {},
   "outputs": [
    {
     "output_type": "execute_result",
     "data": {
      "text/plain": [
       "tensor([[[ 1.4792e-09,  4.5803e-41],\n",
       "         [ 1.6314e+25,  3.0665e-41],\n",
       "         [ 0.0000e+00,  0.0000e+00],\n",
       "         [ 0.0000e+00,  0.0000e+00],\n",
       "         [ 0.0000e+00,  0.0000e+00]],\n",
       "\n",
       "        [[ 0.0000e+00,  0.0000e+00],\n",
       "         [ 1.6099e+25,  3.0665e-41],\n",
       "         [ 0.0000e+00,  0.0000e+00],\n",
       "         [ 1.6607e+25,  3.0665e-41],\n",
       "         [ 1.6607e+25,  3.0665e-41]],\n",
       "\n",
       "        [[ 1.6607e+25,  3.0665e-41],\n",
       "         [ 0.0000e+00,  0.0000e+00],\n",
       "         [ 4.7504e-43,  4.4842e-44],\n",
       "         [ 1.4013e-45,  4.5801e-41],\n",
       "         [-1.3535e+36,  4.5801e-41]],\n",
       "\n",
       "        [[ 4.7784e-43,  1.8217e-44],\n",
       "         [ 1.6607e+25,  3.0665e-41],\n",
       "         [ 1.6607e+25,  3.0665e-41],\n",
       "         [ 1.6607e+25,  3.0665e-41],\n",
       "         [ 1.4013e-45,  0.0000e+00]]])"
      ]
     },
     "metadata": {},
     "execution_count": 9
    }
   ],
   "source": [
    "# Construir un tensor con valores en 0\n",
    "x = torch.empty(4, 5, 2)\n",
    "x"
   ]
  },
  {
   "cell_type": "code",
   "execution_count": 10,
   "metadata": {},
   "outputs": [
    {
     "output_type": "execute_result",
     "data": {
      "text/plain": [
       "tensor([[[0.8278, 0.4829, 0.0160],\n",
       "         [0.4855, 0.2508, 0.1528]],\n",
       "\n",
       "        [[0.4092, 0.9692, 0.4110],\n",
       "         [0.7829, 0.7305, 0.1603]],\n",
       "\n",
       "        [[0.4413, 0.3921, 0.9968],\n",
       "         [0.1063, 0.4249, 0.5303]]])"
      ]
     },
     "metadata": {},
     "execution_count": 10
    }
   ],
   "source": [
    "# Construir tensores con numeros aleatorios\n",
    "x = torch.rand(3,2,3)\n",
    "x"
   ]
  },
  {
   "cell_type": "code",
   "execution_count": 11,
   "metadata": {},
   "outputs": [
    {
     "output_type": "execute_result",
     "data": {
      "text/plain": [
       "tensor([[1, 2, 3],\n",
       "        [4, 2, 6],\n",
       "        [6, 3, 6]])"
      ]
     },
     "metadata": {},
     "execution_count": 11
    }
   ],
   "source": [
    "# Contruir tensor con listas\n",
    "x = torch.tensor([\n",
    "    [1,2,3],\n",
    "    [4,2,6],\n",
    "    [6,3,6]\n",
    "])\n",
    "x"
   ]
  },
  {
   "cell_type": "code",
   "execution_count": 12,
   "metadata": {},
   "outputs": [
    {
     "output_type": "execute_result",
     "data": {
      "text/plain": [
       "tensor([1, 2, 4], dtype=torch.int32)"
      ]
     },
     "metadata": {},
     "execution_count": 12
    }
   ],
   "source": [
    "# Crear tensor con tipo definido\n",
    "x = torch.tensor([1,2,4], dtype=torch.int32)\n",
    "x"
   ]
  },
  {
   "source": [
    "## Operaciones"
   ],
   "cell_type": "markdown",
   "metadata": {}
  },
  {
   "cell_type": "code",
   "execution_count": 15,
   "metadata": {},
   "outputs": [
    {
     "output_type": "execute_result",
     "data": {
      "text/plain": [
       "tensor([[[0.9729, 1.5551],\n",
       "         [1.4092, 1.1962],\n",
       "         [1.0450, 0.9312],\n",
       "         [0.7746, 0.5250]],\n",
       "\n",
       "        [[0.8936, 0.6468],\n",
       "         [0.9916, 1.1348],\n",
       "         [1.6542, 1.5532],\n",
       "         [0.6421, 1.0463]],\n",
       "\n",
       "        [[0.7868, 0.9315],\n",
       "         [1.4575, 1.5500],\n",
       "         [0.7375, 0.6934],\n",
       "         [1.5392, 0.6460]]])"
      ]
     },
     "metadata": {},
     "execution_count": 15
    }
   ],
   "source": [
    "# ver tamano del tensor\n",
    "x = torch.rand(3,4,2)\n",
    "y = torch.rand(3,4,2)\n",
    "\n",
    "# Suma\n",
    "x + y"
   ]
  },
  {
   "cell_type": "code",
   "execution_count": 16,
   "metadata": {},
   "outputs": [
    {
     "output_type": "execute_result",
     "data": {
      "text/plain": [
       "tensor([[[0.9729, 1.5551],\n",
       "         [1.4092, 1.1962],\n",
       "         [1.0450, 0.9312],\n",
       "         [0.7746, 0.5250]],\n",
       "\n",
       "        [[0.8936, 0.6468],\n",
       "         [0.9916, 1.1348],\n",
       "         [1.6542, 1.5532],\n",
       "         [0.6421, 1.0463]],\n",
       "\n",
       "        [[0.7868, 0.9315],\n",
       "         [1.4575, 1.5500],\n",
       "         [0.7375, 0.6934],\n",
       "         [1.5392, 0.6460]]])"
      ]
     },
     "metadata": {},
     "execution_count": 16
    }
   ],
   "source": [
    "# Sumar\n",
    "x.add_(y)\n",
    "x"
   ]
  },
  {
   "cell_type": "code",
   "execution_count": null,
   "metadata": {},
   "outputs": [],
   "source": []
  }
 ]
}