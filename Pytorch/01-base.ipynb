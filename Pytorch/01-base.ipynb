{
 "metadata": {
  "language_info": {
   "codemirror_mode": {
    "name": "ipython",
    "version": 3
   },
   "file_extension": ".py",
   "mimetype": "text/x-python",
   "name": "python",
   "nbconvert_exporter": "python",
   "pygments_lexer": "ipython3",
   "version": "3.7.9-final"
  },
  "orig_nbformat": 2,
  "kernelspec": {
   "name": "python3",
   "display_name": "Python 3",
   "language": "python"
  }
 },
 "nbformat": 4,
 "nbformat_minor": 2,
 "cells": [
  {
   "source": [
    "# Pytorch primeros pasos"
   ],
   "cell_type": "markdown",
   "metadata": {}
  },
  {
   "cell_type": "code",
   "execution_count": 15,
   "metadata": {},
   "outputs": [
    {
     "output_type": "execute_result",
     "data": {
      "text/plain": [
       "'1.7.1'"
      ]
     },
     "metadata": {},
     "execution_count": 15
    }
   ],
   "source": [
    "import torch\n",
    "\n",
    "torch.__version__"
   ]
  },
  {
   "cell_type": "code",
   "execution_count": 2,
   "metadata": {},
   "outputs": [
    {
     "output_type": "execute_result",
     "data": {
      "text/plain": [
       "tensor([[[1.0469e-38, 9.5510e-39],\n",
       "         [9.9184e-39, 9.0000e-39],\n",
       "         [1.0561e-38, 1.0653e-38],\n",
       "         [4.1327e-39, 8.9082e-39],\n",
       "         [9.8265e-39, 9.4592e-39]],\n",
       "\n",
       "        [[1.0561e-38, 1.0653e-38],\n",
       "         [1.0469e-38, 9.5510e-39],\n",
       "         [1.0378e-38, 8.9082e-39],\n",
       "         [1.0653e-38, 1.1204e-38],\n",
       "         [1.0653e-38, 1.0194e-38]],\n",
       "\n",
       "        [[8.4490e-39, 8.7245e-39],\n",
       "         [1.1112e-38, 8.9082e-39],\n",
       "         [9.5510e-39, 8.7245e-39],\n",
       "         [8.4490e-39, 1.0745e-38],\n",
       "         [1.0102e-38, 9.6429e-39]],\n",
       "\n",
       "        [[9.2756e-39, 9.3674e-39],\n",
       "         [4.2246e-39, 1.0286e-38],\n",
       "         [1.0653e-38, 1.0194e-38],\n",
       "         [4.1328e-39, 5.0510e-39],\n",
       "         [1.0286e-38, 9.0919e-39]]])"
      ]
     },
     "metadata": {},
     "execution_count": 2
    }
   ],
   "source": [
    "# Construir un tensor con valores en 0\n",
    "x = torch.empty(4, 5, 2)\n",
    "x"
   ]
  },
  {
   "cell_type": "code",
   "execution_count": 3,
   "metadata": {},
   "outputs": [
    {
     "output_type": "execute_result",
     "data": {
      "text/plain": [
       "tensor([[[0.4190, 0.1759, 0.9346],\n",
       "         [0.4368, 0.3227, 0.3202]],\n",
       "\n",
       "        [[0.1636, 0.2995, 0.6548],\n",
       "         [0.3857, 0.9958, 0.7062]],\n",
       "\n",
       "        [[0.2606, 0.6068, 0.4569],\n",
       "         [0.9966, 0.2435, 0.5268]]])"
      ]
     },
     "metadata": {},
     "execution_count": 3
    }
   ],
   "source": [
    "# Construir tensores con numeros aleatorios\n",
    "x = torch.rand(3,2,3)\n",
    "x"
   ]
  },
  {
   "cell_type": "code",
   "execution_count": 4,
   "metadata": {},
   "outputs": [
    {
     "output_type": "execute_result",
     "data": {
      "text/plain": [
       "tensor([[1, 2, 3],\n",
       "        [4, 2, 6],\n",
       "        [6, 3, 6]])"
      ]
     },
     "metadata": {},
     "execution_count": 4
    }
   ],
   "source": [
    "# Contruir tensor con listas\n",
    "x = torch.tensor([\n",
    "    [1,2,3],\n",
    "    [4,2,6],\n",
    "    [6,3,6]\n",
    "])\n",
    "x"
   ]
  },
  {
   "cell_type": "code",
   "execution_count": 23,
   "metadata": {},
   "outputs": [
    {
     "output_type": "execute_result",
     "data": {
      "text/plain": [
       "tensor([1, 2, 4], dtype=torch.int32)"
      ]
     },
     "metadata": {},
     "execution_count": 23
    }
   ],
   "source": [
    "# Crear tensor con tipo definido\n",
    "x = torch.tensor([1,2,4], dtype=torch.int32)\n",
    "x"
   ]
  },
  {
   "cell_type": "code",
   "execution_count": 25,
   "metadata": {},
   "outputs": [
    {
     "output_type": "execute_result",
     "data": {
      "text/plain": [
       "torch.Size([2, 4, 5])"
      ]
     },
     "metadata": {},
     "execution_count": 25
    }
   ],
   "source": [
    "# ver tamano de un tensor\n",
    "x = torch.rand(2,4,5)\n",
    "x.size()"
   ]
  },
  {
   "source": [
    "## Operaciones"
   ],
   "cell_type": "markdown",
   "metadata": {}
  },
  {
   "cell_type": "code",
   "execution_count": 6,
   "metadata": {},
   "outputs": [
    {
     "output_type": "execute_result",
     "data": {
      "text/plain": [
       "tensor([[[0.8463, 1.0121],\n",
       "         [0.9668, 0.6806],\n",
       "         [0.7018, 0.5523],\n",
       "         [0.2661, 0.7779]],\n",
       "\n",
       "        [[1.3902, 0.5967],\n",
       "         [0.9575, 1.6580],\n",
       "         [1.7309, 1.1151],\n",
       "         [0.6191, 0.8245]],\n",
       "\n",
       "        [[0.5121, 0.9653],\n",
       "         [0.9935, 1.4874],\n",
       "         [0.9505, 1.5872],\n",
       "         [0.9491, 0.8776]]])"
      ]
     },
     "metadata": {},
     "execution_count": 6
    }
   ],
   "source": [
    "# ver tamano del tensor\n",
    "x = torch.rand(3,4,2)\n",
    "y = torch.rand(3,4,2)\n",
    "\n",
    "# Suma\n",
    "x + y"
   ]
  },
  {
   "cell_type": "code",
   "execution_count": 7,
   "metadata": {},
   "outputs": [
    {
     "output_type": "execute_result",
     "data": {
      "text/plain": [
       "tensor([[[0.8463, 1.0121],\n",
       "         [0.9668, 0.6806],\n",
       "         [0.7018, 0.5523],\n",
       "         [0.2661, 0.7779]],\n",
       "\n",
       "        [[1.3902, 0.5967],\n",
       "         [0.9575, 1.6580],\n",
       "         [1.7309, 1.1151],\n",
       "         [0.6191, 0.8245]],\n",
       "\n",
       "        [[0.5121, 0.9653],\n",
       "         [0.9935, 1.4874],\n",
       "         [0.9505, 1.5872],\n",
       "         [0.9491, 0.8776]]])"
      ]
     },
     "metadata": {},
     "execution_count": 7
    }
   ],
   "source": [
    "# Sumar\n",
    "x.add_(y)\n",
    "x"
   ]
  },
  {
   "source": [
    "## Usar GPU"
   ],
   "cell_type": "markdown",
   "metadata": {}
  },
  {
   "cell_type": "code",
   "execution_count": 9,
   "metadata": {},
   "outputs": [
    {
     "output_type": "execute_result",
     "data": {
      "text/plain": [
       "True"
      ]
     },
     "metadata": {},
     "execution_count": 9
    }
   ],
   "source": [
    "# Hay que verificar si la GPU esta disponible\n",
    "torch.cuda.is_available()"
   ]
  },
  {
   "cell_type": "code",
   "execution_count": 10,
   "metadata": {},
   "outputs": [
    {
     "output_type": "execute_result",
     "data": {
      "text/plain": [
       "0"
      ]
     },
     "metadata": {},
     "execution_count": 10
    }
   ],
   "source": [
    "torch.cuda.current_device()"
   ]
  },
  {
   "cell_type": "code",
   "execution_count": 21,
   "metadata": {},
   "outputs": [
    {
     "output_type": "execute_result",
     "data": {
      "text/plain": [
       "512"
      ]
     },
     "metadata": {},
     "execution_count": 21
    }
   ],
   "source": [
    "torch.cuda.memory_allocated()"
   ]
  },
  {
   "cell_type": "code",
   "execution_count": 16,
   "metadata": {},
   "outputs": [
    {
     "output_type": "execute_result",
     "data": {
      "text/plain": [
       "tensor([1., 2., 3., 4.])"
      ]
     },
     "metadata": {},
     "execution_count": 16
    }
   ],
   "source": [
    "# Crear un tensor en la cpu\n",
    "x = torch.FloatTensor([1,2,3,4])\n",
    "x"
   ]
  },
  {
   "cell_type": "code",
   "execution_count": 17,
   "metadata": {},
   "outputs": [
    {
     "output_type": "execute_result",
     "data": {
      "text/plain": [
       "device(type='cpu')"
      ]
     },
     "metadata": {},
     "execution_count": 17
    }
   ],
   "source": [
    "x.device"
   ]
  },
  {
   "cell_type": "code",
   "execution_count": 18,
   "metadata": {},
   "outputs": [
    {
     "output_type": "execute_result",
     "data": {
      "text/plain": [
       "tensor([1., 2., 3., 4.], device='cuda:0')"
      ]
     },
     "metadata": {},
     "execution_count": 18
    }
   ],
   "source": [
    "# Crear tensor en la gpu\n",
    "x = torch.FloatTensor([1,2,3,4]).cuda()\n",
    "x"
   ]
  },
  {
   "cell_type": "code",
   "execution_count": 20,
   "metadata": {},
   "outputs": [
    {
     "output_type": "execute_result",
     "data": {
      "text/plain": [
       "device(type='cuda', index=0)"
      ]
     },
     "metadata": {},
     "execution_count": 20
    }
   ],
   "source": [
    "x.device"
   ]
  },
  {
   "source": [
    "## NumPy Bridge"
   ],
   "cell_type": "markdown",
   "metadata": {}
  },
  {
   "cell_type": "code",
   "execution_count": 31,
   "metadata": {},
   "outputs": [
    {
     "output_type": "stream",
     "name": "stdout",
     "text": [
      "<class 'torch.Tensor'>\ntensor([[1., 1., 1.],\n        [1., 1., 1.]])\n<class 'numpy.ndarray'>\n[[1. 1. 1.]\n [1. 1. 1.]]\n"
     ]
    }
   ],
   "source": [
    "# convertir torch tensor a numpy array\n",
    "a = torch.ones(2,3)\n",
    "b = a.numpy()\n",
    "\n",
    "print(type(a))\n",
    "print(a)\n",
    "\n",
    "print(type(b))\n",
    "print(b)"
   ]
  },
  {
   "cell_type": "code",
   "execution_count": 32,
   "metadata": {},
   "outputs": [
    {
     "output_type": "stream",
     "name": "stdout",
     "text": [
      "tensor([[2., 2., 2.],\n        [2., 2., 2.]])\n[[2. 2. 2.]\n [2. 2. 2.]]\n"
     ]
    }
   ],
   "source": [
    "# El torch tensor y el numpy array estan relacionados\n",
    "# Si uno cambia el otro tambien\n",
    "a.add_(torch.ones(2, 3))\n",
    "\n",
    "print(a)\n",
    "print(b)"
   ]
  },
  {
   "cell_type": "code",
   "execution_count": 33,
   "metadata": {},
   "outputs": [
    {
     "output_type": "stream",
     "name": "stdout",
     "text": [
      "<class 'numpy.ndarray'>\n[1. 1. 1. 1. 1. 1.]\n<class 'torch.Tensor'>\ntensor([1., 1., 1., 1., 1., 1.], dtype=torch.float64)\n"
     ]
    }
   ],
   "source": [
    "# convertir numpy array a torch tensor\n",
    "import numpy as np\n",
    "\n",
    "a = np.ones(6)\n",
    "b = torch.from_numpy(a)\n",
    "\n",
    "print(type(a))\n",
    "print(a)\n",
    "\n",
    "print(type(b))\n",
    "print(b)"
   ]
  },
  {
   "cell_type": "code",
   "execution_count": 34,
   "metadata": {},
   "outputs": [
    {
     "output_type": "stream",
     "name": "stdout",
     "text": [
      "[2. 2. 2. 2. 2. 2.]\ntensor([2., 2., 2., 2., 2., 2.], dtype=torch.float64)\n"
     ]
    }
   ],
   "source": [
    "# El numpy array y El torch tensor estan relacionados\n",
    "# Si uno cambia el otro tambien\n",
    "\n",
    "np.add(a, 1, out=a)\n",
    "print(a)\n",
    "print(b)"
   ]
  },
  {
   "cell_type": "code",
   "execution_count": null,
   "metadata": {},
   "outputs": [],
   "source": []
  }
 ]
}